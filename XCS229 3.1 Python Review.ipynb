{
 "cells": [
  {
   "cell_type": "code",
   "execution_count": 8,
   "id": "0ae1a58f",
   "metadata": {},
   "outputs": [],
   "source": [
    "code = 229"
   ]
  },
  {
   "cell_type": "code",
   "execution_count": 9,
   "id": "037b5d8b",
   "metadata": {},
   "outputs": [
    {
     "data": {
      "text/plain": [
       "229"
      ]
     },
     "execution_count": 9,
     "metadata": {},
     "output_type": "execute_result"
    }
   ],
   "source": [
    "code"
   ]
  },
  {
   "cell_type": "code",
   "execution_count": 10,
   "id": "a4220a12",
   "metadata": {},
   "outputs": [
    {
     "name": "stdout",
     "output_type": "stream",
     "text": [
      "Hello CS229!\n"
     ]
    }
   ],
   "source": [
    "if code == 229:\n",
    "    print('Hello CS229!')\n",
    "elif code == 230:\n",
    "    print('That\\'s deep learning!')\n",
    "elif code < 200:\n",
    "    print('That is some undergraduate class')\n",
    "else:\n",
    "    print('Wrong class!')"
   ]
  },
  {
   "cell_type": "code",
   "execution_count": 11,
   "id": "b6cb2cdc",
   "metadata": {},
   "outputs": [],
   "source": [
    "true = True\n",
    "false = False"
   ]
  },
  {
   "cell_type": "code",
   "execution_count": 14,
   "id": "27e833cb",
   "metadata": {},
   "outputs": [
    {
     "ename": "SyntaxError",
     "evalue": "unexpected character after line continuation character (1149326746.py, line 12)",
     "output_type": "error",
     "traceback": [
      "\u001b[1;36m  File \u001b[1;32m\"C:\\Users\\slee7\\AppData\\Local\\Temp\\ipykernel_13936\\1149326746.py\"\u001b[1;36m, line \u001b[1;32m12\u001b[0m\n\u001b[1;33m    \\\\ bitwise &, |, ~\u001b[0m\n\u001b[1;37m                      ^\u001b[0m\n\u001b[1;31mSyntaxError\u001b[0m\u001b[1;31m:\u001b[0m unexpected character after line continuation character\n"
     ]
    }
   ],
   "source": [
    "if true:\n",
    "    print(\"It's true!\")\n",
    "if not false:\n",
    "    print(\"It's still true!\")\n",
    "if true and not false:\n",
    "    print(\"Anyhow, it's true!\")\n",
    "if false or not true:\n",
    "    print(\"True?\")\n",
    "else:\n",
    "    print(\"Okay, it's false now....\")\n",
    "    \n",
    "# bitwise &, |, ~"
   ]
  },
  {
   "cell_type": "code",
   "execution_count": 15,
   "id": "4ce84fe4",
   "metadata": {},
   "outputs": [
    {
     "name": "stdout",
     "output_type": "stream",
     "text": [
      "2.5\n",
      "1\n",
      "25\n",
      "2\n"
     ]
    }
   ],
   "source": [
    "print(5/2)\n",
    "print(5%2)\n",
    "print(5**2)\n",
    "print(5//2)"
   ]
  },
  {
   "cell_type": "code",
   "execution_count": 16,
   "id": "4cfb0467",
   "metadata": {},
   "outputs": [
    {
     "name": "stdout",
     "output_type": "stream",
     "text": [
      "0\n",
      "1\n",
      "2\n",
      "3\n",
      "4\n"
     ]
    }
   ],
   "source": [
    "for i in range(5):\n",
    "    print(i)"
   ]
  },
  {
   "cell_type": "code",
   "execution_count": 18,
   "id": "a35d51d4",
   "metadata": {},
   "outputs": [
    {
     "name": "stdout",
     "output_type": "stream",
     "text": [
      "5\n",
      "4\n",
      "3\n",
      "2\n",
      "1\n"
     ]
    }
   ],
   "source": [
    "a = 5\n",
    "while a > 0:\n",
    "    print(a)\n",
    "    a -= 1\n",
    "# Python doesn't have a++ or a--"
   ]
  },
  {
   "cell_type": "code",
   "execution_count": 19,
   "id": "bacf072f",
   "metadata": {},
   "outputs": [
    {
     "name": "stdout",
     "output_type": "stream",
     "text": [
      "100\n",
      "1000\n"
     ]
    }
   ],
   "source": [
    "def power(v, p=2):\n",
    "    return v ** p\n",
    "\n",
    "print(power(10))\n",
    "print(power(10,3))\n",
    "\n",
    "#Python works on indentations and not brackets"
   ]
  },
  {
   "cell_type": "code",
   "execution_count": 21,
   "id": "48b6d453",
   "metadata": {},
   "outputs": [],
   "source": [
    "def func2(*args, **kwargs):\n",
    "    print(args)\n",
    "    print(kwargs)\n",
    "# Functions can support extra arguments. You can pass them on to another functions, or make use of these directly\n",
    "# args: variable number of non-keyworded argumetns\n",
    "# kwards: variable number of keyworded arguments"
   ]
  },
  {
   "cell_type": "code",
   "execution_count": 24,
   "id": "910712eb",
   "metadata": {},
   "outputs": [
    {
     "name": "stdout",
     "output_type": "stream",
     "text": [
      "('extra 1', 'extra 2')\n",
      "{'power': 3}\n",
      "1000\n",
      "-----------\n",
      "(5,)\n",
      "{}\n",
      "10\n"
     ]
    }
   ],
   "source": [
    "def func1(v, *args, **kwargs):\n",
    "    func2(*args, **kwargs)\n",
    "    if 'power' in kwargs:\n",
    "        return v **kwargs['power']\n",
    "    else:\n",
    "        return v\n",
    "\n",
    "print(func1(10,'extra 1','extra 2', power=3))\n",
    "print('-----------')\n",
    "print(func1(10,5))"
   ]
  },
  {
   "cell_type": "code",
   "execution_count": 25,
   "id": "a3ae2a12",
   "metadata": {},
   "outputs": [
    {
     "name": "stdout",
     "output_type": "stream",
     "text": [
      "I like CS229a lot!\n",
      "I like CS 229 a lot!\n"
     ]
    }
   ],
   "source": [
    "cs_class_code = 229\n",
    "print('I like CS' + str(cs_class_code) + ' a lot!')\n",
    "print(f'I like CS {cs_class_code} a lot!')"
   ]
  },
  {
   "cell_type": "code",
   "execution_count": 26,
   "id": "92165ed2",
   "metadata": {},
   "outputs": [
    {
     "name": "stdout",
     "output_type": "stream",
     "text": [
      "I LOVE CS229. (UPPER)\n",
      "                          I love CS229. (rjust 50)\n",
      "We love cs229. (capitalize)\n",
      "I love CS229. (strip)\n"
     ]
    }
   ],
   "source": [
    "print('I love CS229. (upper)'.upper())\n",
    "print('I love CS229. (rjust 50)'.rjust(50))\n",
    "print('we love CS229. (capitalize)'.capitalize())\n",
    "print('        I love CS229. (strip)           '.strip())"
   ]
  },
  {
   "cell_type": "code",
   "execution_count": 29,
   "id": "3d9b1128",
   "metadata": {},
   "outputs": [
    {
     "name": "stdout",
     "output_type": "stream",
     "text": [
      "<built-in function print> (print a function)\n",
      "<class 'int'> (print a type)\n",
      "Old school formatting: c, b,       1.36\n"
     ]
    }
   ],
   "source": [
    "print(f'{print} (print a function)')\n",
    "print(f'{type(229)} (print a type)')\n",
    "print('Old school formatting: {2}, {1}, {0:10.2F}'.format(1.358,'b','c'))"
   ]
  },
  {
   "cell_type": "code",
   "execution_count": 30,
   "id": "d0e94340",
   "metadata": {},
   "outputs": [],
   "source": [
    "list_1 = ['one','two','three']\n",
    "list_2 = [1,2,3]"
   ]
  },
  {
   "cell_type": "code",
   "execution_count": 31,
   "id": "665f8c70",
   "metadata": {},
   "outputs": [
    {
     "name": "stdout",
     "output_type": "stream",
     "text": [
      "['one', 'two', 'three']\n",
      "[1, 2, 3]\n"
     ]
    }
   ],
   "source": [
    "print(list_1)\n",
    "print(list_2)"
   ]
  },
  {
   "cell_type": "code",
   "execution_count": 32,
   "id": "012b3eba",
   "metadata": {},
   "outputs": [],
   "source": [
    "list_2.append(4)"
   ]
  },
  {
   "cell_type": "code",
   "execution_count": 33,
   "id": "58335d4f",
   "metadata": {},
   "outputs": [
    {
     "data": {
      "text/plain": [
       "[1, 2, 3, 4]"
      ]
     },
     "execution_count": 33,
     "metadata": {},
     "output_type": "execute_result"
    }
   ],
   "source": [
    "list_2"
   ]
  },
  {
   "cell_type": "code",
   "execution_count": 34,
   "id": "c5a1e53b",
   "metadata": {},
   "outputs": [],
   "source": [
    "list_2.insert(0, 'ZERO')"
   ]
  },
  {
   "cell_type": "code",
   "execution_count": 35,
   "id": "7efc3e4a",
   "metadata": {},
   "outputs": [
    {
     "data": {
      "text/plain": [
       "['ZERO', 1, 2, 3, 4]"
      ]
     },
     "execution_count": 35,
     "metadata": {},
     "output_type": "execute_result"
    }
   ],
   "source": [
    "list_2"
   ]
  },
  {
   "cell_type": "code",
   "execution_count": 37,
   "id": "a237a37f",
   "metadata": {},
   "outputs": [
    {
     "name": "stdout",
     "output_type": "stream",
     "text": [
      "['one', 'two', 'three', 'ZERO', 1, 2, 3, 4]\n",
      "['a', 'b', 'ZERO', 1, 2, 3, 4]\n"
     ]
    }
   ],
   "source": [
    "#List extension is just addition\n",
    "print(list_1 + list_2)\n",
    "\n",
    "list_1_temp = ['a','b']\n",
    "list_1_temp.extend(list_2)\n",
    "\n",
    "print(list_1_temp)"
   ]
  },
  {
   "cell_type": "code",
   "execution_count": 38,
   "id": "438a886b",
   "metadata": {},
   "outputs": [
    {
     "name": "stdout",
     "output_type": "stream",
     "text": [
      "['one', 'two', 'three', 'one', 'two', 'three', 'one', 'two', 'three', 'ZERO', 1, 2, 3, 4]\n",
      "[['one', 'two', 'three'], ['one', 'two', 'three'], ['one', 'two', 'three'], 'ZERO', 1, 2, 3, 4]\n"
     ]
    }
   ],
   "source": [
    "print(list_1 * 3 + list_2)\n",
    "print([list_1] * 3 + list_2)"
   ]
  },
  {
   "cell_type": "code",
   "execution_count": 39,
   "id": "3114cfaf",
   "metadata": {},
   "outputs": [],
   "source": [
    "import pprint as pp"
   ]
  },
  {
   "cell_type": "code",
   "execution_count": 42,
   "id": "2f60d7f9",
   "metadata": {},
   "outputs": [
    {
     "name": "stdout",
     "output_type": "stream",
     "text": [
      "[['one', 'two', 'three'],\n",
      " ['one', 'two', 'three'],\n",
      " ['one', 'two', 'three'],\n",
      " ['one', 'two', 'three'],\n",
      " ['one', 'two', 'three'],\n",
      " 'ZERO',\n",
      " 1,\n",
      " 2,\n",
      " 3,\n",
      " 4]\n",
      "[['one', 'two', 'three'],\n",
      " ['one', 'two', 'three'],\n",
      " ['ZERO', 1, 2, 3, 4],\n",
      " ['ZERO', 1, 2, 3, 4],\n",
      " ['ZERO', 1, 2, 3, 4]]\n"
     ]
    }
   ],
   "source": [
    "pp.pprint([list_1] * 5 + list_2)\n",
    "pp.pprint([list_1] * 2 + [list_2] * 3)"
   ]
  },
  {
   "cell_type": "code",
   "execution_count": 43,
   "id": "f39f18da",
   "metadata": {},
   "outputs": [
    {
     "name": "stdout",
     "output_type": "stream",
     "text": [
      "[0, 1, 2, 3, 4, 5, 6, 7, 8]\n",
      "[(0, 0),\n",
      " (0, 1),\n",
      " (0, 2),\n",
      " (0, 3),\n",
      " (0, 4),\n",
      " (1, 0),\n",
      " (1, 1),\n",
      " (1, 2),\n",
      " (1, 3),\n",
      " (1, 4),\n",
      " (2, 0),\n",
      " (2, 1),\n",
      " (2, 2),\n",
      " (2, 3),\n",
      " (2, 4)]\n",
      "[[0, 1, 2], [0, 1, 2], [0, 1, 2], [0, 1, 2], [0, 1, 2]]\n"
     ]
    }
   ],
   "source": [
    "long_list = [i for i in range(9)]\n",
    "long_long_list = [(i,j) for i in range(3) for j in range(5)]\n",
    "long_list_list = [[i for i in range(3)] for _ in range(5)]\n",
    "\n",
    "pp.pprint(long_list)\n",
    "pp.pprint(long_long_list)\n",
    "pp.pprint(long_list_list)"
   ]
  },
  {
   "cell_type": "code",
   "execution_count": 44,
   "id": "234d9b64",
   "metadata": {},
   "outputs": [],
   "source": [
    "string_list = ['a','b','c']"
   ]
  },
  {
   "cell_type": "code",
   "execution_count": 46,
   "id": "e07a9678",
   "metadata": {},
   "outputs": [
    {
     "name": "stdout",
     "output_type": "stream",
     "text": [
      "a\n",
      "b\n",
      "c\n"
     ]
    }
   ],
   "source": [
    "for s in string_list:\n",
    "    print(s)"
   ]
  },
  {
   "cell_type": "code",
   "execution_count": 48,
   "id": "5e6c9f5b",
   "metadata": {},
   "outputs": [
    {
     "name": "stdout",
     "output_type": "stream",
     "text": [
      "0, a\n",
      "1, b\n",
      "2, c\n"
     ]
    }
   ],
   "source": [
    "for i, s in enumerate(string_list):\n",
    "    print(f'{i}, {s}')"
   ]
  },
  {
   "cell_type": "code",
   "execution_count": 49,
   "id": "2f7fbcd4",
   "metadata": {},
   "outputs": [
    {
     "name": "stdout",
     "output_type": "stream",
     "text": [
      "[0, 1, 2, 3, 4]\n",
      "[0, 1, 2, 3, 4, 5, 6, 7]\n",
      "[4, 5, 6, 7]\n",
      "[0, 1, 2, -1, -2, 5, 6, 7, 8]\n",
      "[0, 1, 2, -1, -2, 5, 6, 7]\n"
     ]
    }
   ],
   "source": [
    "print(long_list[:5])\n",
    "print(long_list[:-1])\n",
    "print(long_list[4:-1])\n",
    "\n",
    "long_list[3:5] = [-1,-2]\n",
    "print(long_list)\n",
    "\n",
    "long_list.pop()\n",
    "print(long_list)"
   ]
  },
  {
   "cell_type": "code",
   "execution_count": 51,
   "id": "7ae63377",
   "metadata": {},
   "outputs": [
    {
     "name": "stdout",
     "output_type": "stream",
     "text": [
      "[2, 3, 5, 6, 8, 12]\n",
      "[(2, 'g'), (3, 'z'), (5, 'a'), (6, 'e'), (8, 'c'), (12, 'r')]\n",
      "[(5, 'a'), (8, 'c'), (6, 'e'), (2, 'g'), (12, 'r'), (3, 'z')]\n"
     ]
    }
   ],
   "source": [
    "random_list = [3,12,5,6,8,2]\n",
    "print(sorted(random_list))\n",
    "\n",
    "random_list_2 = [(3,'z'),(12,'r'),(5,'a'),(6,'e'),(8,'c'),(2,'g')]\n",
    "print(sorted(random_list_2, key=lambda x: x[0])) # sorting using 1st variable in tuple\n",
    "print(sorted(random_list_2, key=lambda x: x[1])) # sorting using 2nd variable in tuple"
   ]
  },
  {
   "cell_type": "code",
   "execution_count": 53,
   "id": "b3f682c2",
   "metadata": {},
   "outputs": [
    {
     "name": "stdout",
     "output_type": "stream",
     "text": [
      "[[1, 'okay'], [3, 4]]\n",
      "[[1, 'okay'], [3, 4]]\n",
      "[[1, 2], [3, 4]]\n",
      "[[1, 'okay'], [3, 4]]\n"
     ]
    }
   ],
   "source": [
    "orig_list = [[1,2],[3,4]]\n",
    "dup_list = orig_list\n",
    "# Copying happens by reference, not value so be careful\n",
    "\n",
    "dup_list[0][1] = 'okay'\n",
    "pp.pprint(orig_list)\n",
    "pp.pprint(dup_list)\n",
    "\n",
    "import copy\n",
    "\n",
    "orig_list = [[1,2],[3,4]]\n",
    "dup_list = copy.deepcopy(orig_list)\n",
    "\n",
    "dup_list[0][1] = 'okay'\n",
    "pp.pprint(orig_list)\n",
    "pp.pprint(dup_list)"
   ]
  },
  {
   "cell_type": "code",
   "execution_count": 54,
   "id": "5956948d",
   "metadata": {},
   "outputs": [
    {
     "name": "stdout",
     "output_type": "stream",
     "text": [
      "[[1, 4, 3], [1, 4, 3], [1, 4, 3]]\n",
      "[[1, 4, 3], [1, 2, 3], [1, 2, 3]]\n"
     ]
    }
   ],
   "source": [
    "a = [[1,2,3]]*3\n",
    "b = [[1,2,3] for i in range(3)]\n",
    "a[0][1] = 4\n",
    "b[0][1] = 4\n",
    "print(a)\n",
    "print(b)"
   ]
  },
  {
   "cell_type": "code",
   "execution_count": 55,
   "id": "b022a51e",
   "metadata": {},
   "outputs": [
    {
     "ename": "TypeError",
     "evalue": "'tuple' object does not support item assignment",
     "output_type": "error",
     "traceback": [
      "\u001b[1;31m---------------------------------------------------------------------------\u001b[0m",
      "\u001b[1;31mTypeError\u001b[0m                                 Traceback (most recent call last)",
      "\u001b[1;32m~\\AppData\\Local\\Temp\\ipykernel_13936\\783737748.py\u001b[0m in \u001b[0;36m<module>\u001b[1;34m\u001b[0m\n\u001b[0;32m      1\u001b[0m \u001b[0mmy_tuple\u001b[0m \u001b[1;33m=\u001b[0m \u001b[1;33m(\u001b[0m\u001b[1;36m10\u001b[0m\u001b[1;33m,\u001b[0m\u001b[1;36m20\u001b[0m\u001b[1;33m,\u001b[0m\u001b[1;36m30\u001b[0m\u001b[1;33m)\u001b[0m\u001b[1;33m\u001b[0m\u001b[1;33m\u001b[0m\u001b[0m\n\u001b[1;32m----> 2\u001b[1;33m \u001b[0mmy_tuple\u001b[0m\u001b[1;33m[\u001b[0m\u001b[1;36m0\u001b[0m\u001b[1;33m]\u001b[0m \u001b[1;33m=\u001b[0m \u001b[1;36m40\u001b[0m\u001b[1;33m\u001b[0m\u001b[1;33m\u001b[0m\u001b[0m\n\u001b[0m",
      "\u001b[1;31mTypeError\u001b[0m: 'tuple' object does not support item assignment"
     ]
    }
   ],
   "source": [
    "my_tuple = (10,20,30)\n",
    "my_tuple[0] = 40\n",
    "# Cannot edit tuples"
   ]
  },
  {
   "cell_type": "code",
   "execution_count": 56,
   "id": "77d68435",
   "metadata": {},
   "outputs": [
    {
     "name": "stdout",
     "output_type": "stream",
     "text": [
      "a=10, b=20, c=30\n",
      "(0, 10)\n",
      "(1, 20)\n",
      "(2, 30)\n"
     ]
    }
   ],
   "source": [
    "a,b,c = my_tuple\n",
    "print(f'a={a}, b={b}, c={c}')\n",
    "for obj in enumerate(my_tuple):\n",
    "    print(obj)"
   ]
  },
  {
   "cell_type": "code",
   "execution_count": 57,
   "id": "6f99d75e",
   "metadata": {},
   "outputs": [
    {
     "name": "stdout",
     "output_type": "stream",
     "text": [
      "{0, 1, 64, 4, 36, 9, 16, 49, 81, 25}\n"
     ]
    }
   ],
   "source": [
    "my_set = {i ** 2 for i in range(10)}\n",
    "print(my_set)\n",
    "\n",
    "# unordered, unique"
   ]
  },
  {
   "cell_type": "code",
   "execution_count": 58,
   "id": "016b6466",
   "metadata": {},
   "outputs": [
    {
     "name": "stdout",
     "output_type": "stream",
     "text": [
      "{0, 1, 4}\n"
     ]
    }
   ],
   "source": [
    "my_set_temp = {i ** 2 % 5 for i in range(50)}\n",
    "print(my_set_temp)\n",
    "\n",
    "# no repetition in the set"
   ]
  },
  {
   "cell_type": "code",
   "execution_count": 61,
   "id": "449814e1",
   "metadata": {},
   "outputs": [
    {
     "name": "stdout",
     "output_type": "stream",
     "text": [
      "{5: 0, 4: 1, 3: 4, 2: 9, 1: 16, 0: 25, -1: 36, -2: 49, -3: 64, -4: 81}\n",
      "dict_keys([5, 4, 3, 2, 1, 0, -1, -2, -3, -4])\n"
     ]
    }
   ],
   "source": [
    "my_dict = {(5-i): i ** 2 for i in range(10)}\n",
    "\n",
    "print(my_dict)\n",
    "print(my_dict.keys())"
   ]
  },
  {
   "cell_type": "code",
   "execution_count": 62,
   "id": "89a932ce",
   "metadata": {},
   "outputs": [
    {
     "name": "stdout",
     "output_type": "stream",
     "text": [
      "{-4: 81,\n",
      " -3: 64,\n",
      " -2: 49,\n",
      " -1: 36,\n",
      " 0: 25,\n",
      " 1: 16,\n",
      " 2: 9,\n",
      " 3: 4,\n",
      " 4: 1,\n",
      " 5: 0,\n",
      " 'a': 10,\n",
      " 'b': 11}\n"
     ]
    }
   ],
   "source": [
    "second_dict = {'a':10, 'b':11}\n",
    "my_dict.update(second_dict)\n",
    "\n",
    "pp.pprint(my_dict)"
   ]
  },
  {
   "cell_type": "code",
   "execution_count": 63,
   "id": "72b184bd",
   "metadata": {},
   "outputs": [
    {
     "name": "stdout",
     "output_type": "stream",
     "text": [
      "{-4: 81,\n",
      " -3: 64,\n",
      " -2: 49,\n",
      " -1: 36,\n",
      " 0: 25,\n",
      " 1: 16,\n",
      " 2: 9,\n",
      " 3: 4,\n",
      " 4: 1,\n",
      " 5: 0,\n",
      " 'a': 10,\n",
      " 'b': 11,\n",
      " 'new': 10}\n"
     ]
    }
   ],
   "source": [
    "my_dict['new'] = 10\n",
    "pp.pprint(my_dict)"
   ]
  },
  {
   "cell_type": "code",
   "execution_count": 64,
   "id": "706120b1",
   "metadata": {},
   "outputs": [
    {
     "name": "stdout",
     "output_type": "stream",
     "text": [
      "5 0\n",
      "4 1\n",
      "3 4\n",
      "2 9\n",
      "1 16\n",
      "0 25\n",
      "-1 36\n",
      "-2 49\n",
      "-3 64\n",
      "-4 81\n",
      "a 10\n",
      "b 11\n",
      "new 10\n"
     ]
    }
   ],
   "source": [
    " for k, it in my_dict.items(): # similar to for loop over enumerate(list)\n",
    "    print(k, it)"
   ]
  },
  {
   "cell_type": "code",
   "execution_count": 66,
   "id": "d132b75c",
   "metadata": {},
   "outputs": [
    {
     "name": "stdout",
     "output_type": "stream",
     "text": [
      "-1 36\n",
      "-2 49\n",
      "-3 64\n",
      "-4 81\n",
      "0 25\n",
      "1 16\n",
      "2 9\n",
      "3 4\n",
      "4 1\n",
      "5 0\n",
      "a 10\n",
      "b 11\n",
      "new 10\n"
     ]
    }
   ],
   "source": [
    "# Sorting keys by string order\n",
    "for k, it in sorted(my_dict.items(), key=lambda x: str(x[0])):\n",
    "    print(k, it)"
   ]
  }
 ],
 "metadata": {
  "kernelspec": {
   "display_name": "Python 3 (ipykernel)",
   "language": "python",
   "name": "python3"
  },
  "language_info": {
   "codemirror_mode": {
    "name": "ipython",
    "version": 3
   },
   "file_extension": ".py",
   "mimetype": "text/x-python",
   "name": "python",
   "nbconvert_exporter": "python",
   "pygments_lexer": "ipython3",
   "version": "3.7.16"
  }
 },
 "nbformat": 4,
 "nbformat_minor": 5
}
